{
  "cells": [
    {
      "cell_type": "code",
      "execution_count": null,
      "id": "9035b189-b307-41d2-a836-ebc836d40534",
      "metadata": {
        "id": "9035b189-b307-41d2-a836-ebc836d40534"
      },
      "outputs": [],
      "source": [
        "import pandas as pd\n",
        "import urllib.parse\n",
        "\n",
        "import re\n",
        "import numpy as np\n",
        "\n",
        "import warnings\n",
        "warnings.filterwarnings(\"ignore\", category=FutureWarning)"
      ]
    },
    {
      "cell_type": "code",
      "source": [
        "# !pip install \"tensorflow-gpu>=1.13.1,<2.0\""
      ],
      "metadata": {
        "id": "LECVQNyacz4l"
      },
      "id": "LECVQNyacz4l",
      "execution_count": null,
      "outputs": []
    },
    {
      "cell_type": "code",
      "execution_count": null,
      "id": "8cafe0d0-5817-4a2c-aedb-3615fb4d2e39",
      "metadata": {
        "id": "8cafe0d0-5817-4a2c-aedb-3615fb4d2e39"
      },
      "outputs": [],
      "source": [
        "# !pip install ampligraph "
      ]
    },
    {
      "cell_type": "code",
      "execution_count": null,
      "id": "08190f84-2d06-4c86-ba67-7371f593c2b9",
      "metadata": {
        "colab": {
          "base_uri": "https://localhost:8080/",
          "height": 36
        },
        "id": "08190f84-2d06-4c86-ba67-7371f593c2b9",
        "outputId": "f74c99af-3225-46d9-e0d8-5622181bc044"
      },
      "outputs": [
        {
          "output_type": "execute_result",
          "data": {
            "text/plain": [
              "'1.4.0'"
            ],
            "application/vnd.google.colaboratory.intrinsic+json": {
              "type": "string"
            }
          },
          "metadata": {},
          "execution_count": 4
        }
      ],
      "source": [
        "import ampligraph\n",
        "ampligraph.__version__"
      ]
    },
    {
      "cell_type": "code",
      "source": [
        "triples = pd.read_csv('/content/drive/MyDrive/bkmg_project/Integrated_KG_CSV.csv')"
      ],
      "metadata": {
        "id": "E1DIi8GMDL1W"
      },
      "id": "E1DIi8GMDL1W",
      "execution_count": null,
      "outputs": []
    },
    {
      "cell_type": "code",
      "source": [
        "triples = [tuple(x) for x in triples.to_records(index=False)]"
      ],
      "metadata": {
        "id": "LsUmxEQSFWKb"
      },
      "id": "LsUmxEQSFWKb",
      "execution_count": null,
      "outputs": []
    },
    {
      "cell_type": "code",
      "source": [
        ""
      ],
      "metadata": {
        "id": "r3odUssqFdxC"
      },
      "id": "r3odUssqFdxC",
      "execution_count": null,
      "outputs": []
    },
    {
      "cell_type": "code",
      "source": [
        "# from google.colab import drive\n",
        "# drive.mount('/content/drive')"
      ],
      "metadata": {
        "id": "8BuKkN3dDROM"
      },
      "id": "8BuKkN3dDROM",
      "execution_count": null,
      "outputs": []
    },
    {
      "cell_type": "code",
      "execution_count": null,
      "id": "50a9073d-1ce4-4b27-a0c1-5b05c300ba41",
      "metadata": {
        "id": "50a9073d-1ce4-4b27-a0c1-5b05c300ba41"
      },
      "outputs": [],
      "source": [
        "triples_df = pd.DataFrame(triples, columns=[\"subject\", \"predicate\", \"object\"])\n"
      ]
    },
    {
      "cell_type": "code",
      "source": [
        "triples_df"
      ],
      "metadata": {
        "colab": {
          "base_uri": "https://localhost:8080/",
          "height": 423
        },
        "id": "pxQZzc9mmLZ3",
        "outputId": "da899a0b-14fe-4b30-e886-f6564f684f1c"
      },
      "id": "pxQZzc9mmLZ3",
      "execution_count": null,
      "outputs": [
        {
          "output_type": "execute_result",
          "data": {
            "text/plain": [
              "                                              subject  \\\n",
              "0            http://example.org/MovieDB/Pete's_Dragon   \n",
              "1      http://example.org/MovieDB/The_Forbidden_Dance   \n",
              "2                http://example.org/MovieDB/GoldenEye   \n",
              "3                  http://example.org/MovieLens/68954   \n",
              "4           http://example.org/MovieDB/Into_the_Woods   \n",
              "...                                               ...   \n",
              "57228        http://example.org/MovieDB/Oliver_Hudson   \n",
              "57229       http://example.org/MovieDB/102_Dalmatians   \n",
              "57230        http://example.org/MovieDB/Bill_Thompson   \n",
              "57231        http://example.org/MovieDB/Marcus_Hester   \n",
              "57232        http://example.org/MovieDB/Geoffrey_Rush   \n",
              "\n",
              "                                             predicate  \\\n",
              "0                 http://www.w3.org/2002/07/owl#sameAs   \n",
              "1      http://www.w3.org/1999/02/22-rdf-syntax-ns#type   \n",
              "2                       http://example.org/StreamingOn   \n",
              "3                           http://example.org/RatedBy   \n",
              "4                     https://schema.org/datePublished   \n",
              "...                                                ...   \n",
              "57228  http://www.w3.org/1999/02/22-rdf-syntax-ns#type   \n",
              "57229                    http://example.org/DirectedBy   \n",
              "57230  http://www.w3.org/1999/02/22-rdf-syntax-ns#type   \n",
              "57231  http://www.w3.org/1999/02/22-rdf-syntax-ns#type   \n",
              "57232                       http://example.org/ActedIn   \n",
              "\n",
              "                                                  object  \n",
              "0                    http://example.org/MovieLens/160573  \n",
              "1                               https://schema.org/Movie  \n",
              "2                        http://example.org/MovieDB/Hulu  \n",
              "3               http://example.org/MovieLens/User_Id_246  \n",
              "4                                                   2014  \n",
              "...                                                  ...  \n",
              "57228                           https://schema.org/actor  \n",
              "57229              http://example.org/MovieDB/Kevin_Lima  \n",
              "57230                           https://schema.org/actor  \n",
              "57231                           https://schema.org/actor  \n",
              "57232  http://example.org/MovieDB/Pirates_of_the_Cari...  \n",
              "\n",
              "[57233 rows x 3 columns]"
            ],
            "text/html": [
              "\n",
              "  <div id=\"df-9f0364e3-10c6-42ad-bc6b-dfb9f61ff7dc\">\n",
              "    <div class=\"colab-df-container\">\n",
              "      <div>\n",
              "<style scoped>\n",
              "    .dataframe tbody tr th:only-of-type {\n",
              "        vertical-align: middle;\n",
              "    }\n",
              "\n",
              "    .dataframe tbody tr th {\n",
              "        vertical-align: top;\n",
              "    }\n",
              "\n",
              "    .dataframe thead th {\n",
              "        text-align: right;\n",
              "    }\n",
              "</style>\n",
              "<table border=\"1\" class=\"dataframe\">\n",
              "  <thead>\n",
              "    <tr style=\"text-align: right;\">\n",
              "      <th></th>\n",
              "      <th>subject</th>\n",
              "      <th>predicate</th>\n",
              "      <th>object</th>\n",
              "    </tr>\n",
              "  </thead>\n",
              "  <tbody>\n",
              "    <tr>\n",
              "      <th>0</th>\n",
              "      <td>http://example.org/MovieDB/Pete's_Dragon</td>\n",
              "      <td>http://www.w3.org/2002/07/owl#sameAs</td>\n",
              "      <td>http://example.org/MovieLens/160573</td>\n",
              "    </tr>\n",
              "    <tr>\n",
              "      <th>1</th>\n",
              "      <td>http://example.org/MovieDB/The_Forbidden_Dance</td>\n",
              "      <td>http://www.w3.org/1999/02/22-rdf-syntax-ns#type</td>\n",
              "      <td>https://schema.org/Movie</td>\n",
              "    </tr>\n",
              "    <tr>\n",
              "      <th>2</th>\n",
              "      <td>http://example.org/MovieDB/GoldenEye</td>\n",
              "      <td>http://example.org/StreamingOn</td>\n",
              "      <td>http://example.org/MovieDB/Hulu</td>\n",
              "    </tr>\n",
              "    <tr>\n",
              "      <th>3</th>\n",
              "      <td>http://example.org/MovieLens/68954</td>\n",
              "      <td>http://example.org/RatedBy</td>\n",
              "      <td>http://example.org/MovieLens/User_Id_246</td>\n",
              "    </tr>\n",
              "    <tr>\n",
              "      <th>4</th>\n",
              "      <td>http://example.org/MovieDB/Into_the_Woods</td>\n",
              "      <td>https://schema.org/datePublished</td>\n",
              "      <td>2014</td>\n",
              "    </tr>\n",
              "    <tr>\n",
              "      <th>...</th>\n",
              "      <td>...</td>\n",
              "      <td>...</td>\n",
              "      <td>...</td>\n",
              "    </tr>\n",
              "    <tr>\n",
              "      <th>57228</th>\n",
              "      <td>http://example.org/MovieDB/Oliver_Hudson</td>\n",
              "      <td>http://www.w3.org/1999/02/22-rdf-syntax-ns#type</td>\n",
              "      <td>https://schema.org/actor</td>\n",
              "    </tr>\n",
              "    <tr>\n",
              "      <th>57229</th>\n",
              "      <td>http://example.org/MovieDB/102_Dalmatians</td>\n",
              "      <td>http://example.org/DirectedBy</td>\n",
              "      <td>http://example.org/MovieDB/Kevin_Lima</td>\n",
              "    </tr>\n",
              "    <tr>\n",
              "      <th>57230</th>\n",
              "      <td>http://example.org/MovieDB/Bill_Thompson</td>\n",
              "      <td>http://www.w3.org/1999/02/22-rdf-syntax-ns#type</td>\n",
              "      <td>https://schema.org/actor</td>\n",
              "    </tr>\n",
              "    <tr>\n",
              "      <th>57231</th>\n",
              "      <td>http://example.org/MovieDB/Marcus_Hester</td>\n",
              "      <td>http://www.w3.org/1999/02/22-rdf-syntax-ns#type</td>\n",
              "      <td>https://schema.org/actor</td>\n",
              "    </tr>\n",
              "    <tr>\n",
              "      <th>57232</th>\n",
              "      <td>http://example.org/MovieDB/Geoffrey_Rush</td>\n",
              "      <td>http://example.org/ActedIn</td>\n",
              "      <td>http://example.org/MovieDB/Pirates_of_the_Cari...</td>\n",
              "    </tr>\n",
              "  </tbody>\n",
              "</table>\n",
              "<p>57233 rows × 3 columns</p>\n",
              "</div>\n",
              "      <button class=\"colab-df-convert\" onclick=\"convertToInteractive('df-9f0364e3-10c6-42ad-bc6b-dfb9f61ff7dc')\"\n",
              "              title=\"Convert this dataframe to an interactive table.\"\n",
              "              style=\"display:none;\">\n",
              "        \n",
              "  <svg xmlns=\"http://www.w3.org/2000/svg\" height=\"24px\"viewBox=\"0 0 24 24\"\n",
              "       width=\"24px\">\n",
              "    <path d=\"M0 0h24v24H0V0z\" fill=\"none\"/>\n",
              "    <path d=\"M18.56 5.44l.94 2.06.94-2.06 2.06-.94-2.06-.94-.94-2.06-.94 2.06-2.06.94zm-11 1L8.5 8.5l.94-2.06 2.06-.94-2.06-.94L8.5 2.5l-.94 2.06-2.06.94zm10 10l.94 2.06.94-2.06 2.06-.94-2.06-.94-.94-2.06-.94 2.06-2.06.94z\"/><path d=\"M17.41 7.96l-1.37-1.37c-.4-.4-.92-.59-1.43-.59-.52 0-1.04.2-1.43.59L10.3 9.45l-7.72 7.72c-.78.78-.78 2.05 0 2.83L4 21.41c.39.39.9.59 1.41.59.51 0 1.02-.2 1.41-.59l7.78-7.78 2.81-2.81c.8-.78.8-2.07 0-2.86zM5.41 20L4 18.59l7.72-7.72 1.47 1.35L5.41 20z\"/>\n",
              "  </svg>\n",
              "      </button>\n",
              "      \n",
              "  <style>\n",
              "    .colab-df-container {\n",
              "      display:flex;\n",
              "      flex-wrap:wrap;\n",
              "      gap: 12px;\n",
              "    }\n",
              "\n",
              "    .colab-df-convert {\n",
              "      background-color: #E8F0FE;\n",
              "      border: none;\n",
              "      border-radius: 50%;\n",
              "      cursor: pointer;\n",
              "      display: none;\n",
              "      fill: #1967D2;\n",
              "      height: 32px;\n",
              "      padding: 0 0 0 0;\n",
              "      width: 32px;\n",
              "    }\n",
              "\n",
              "    .colab-df-convert:hover {\n",
              "      background-color: #E2EBFA;\n",
              "      box-shadow: 0px 1px 2px rgba(60, 64, 67, 0.3), 0px 1px 3px 1px rgba(60, 64, 67, 0.15);\n",
              "      fill: #174EA6;\n",
              "    }\n",
              "\n",
              "    [theme=dark] .colab-df-convert {\n",
              "      background-color: #3B4455;\n",
              "      fill: #D2E3FC;\n",
              "    }\n",
              "\n",
              "    [theme=dark] .colab-df-convert:hover {\n",
              "      background-color: #434B5C;\n",
              "      box-shadow: 0px 1px 3px 1px rgba(0, 0, 0, 0.15);\n",
              "      filter: drop-shadow(0px 1px 2px rgba(0, 0, 0, 0.3));\n",
              "      fill: #FFFFFF;\n",
              "    }\n",
              "  </style>\n",
              "\n",
              "      <script>\n",
              "        const buttonEl =\n",
              "          document.querySelector('#df-9f0364e3-10c6-42ad-bc6b-dfb9f61ff7dc button.colab-df-convert');\n",
              "        buttonEl.style.display =\n",
              "          google.colab.kernel.accessAllowed ? 'block' : 'none';\n",
              "\n",
              "        async function convertToInteractive(key) {\n",
              "          const element = document.querySelector('#df-9f0364e3-10c6-42ad-bc6b-dfb9f61ff7dc');\n",
              "          const dataTable =\n",
              "            await google.colab.kernel.invokeFunction('convertToInteractive',\n",
              "                                                     [key], {});\n",
              "          if (!dataTable) return;\n",
              "\n",
              "          const docLinkHtml = 'Like what you see? Visit the ' +\n",
              "            '<a target=\"_blank\" href=https://colab.research.google.com/notebooks/data_table.ipynb>data table notebook</a>'\n",
              "            + ' to learn more about interactive tables.';\n",
              "          element.innerHTML = '';\n",
              "          dataTable['output_type'] = 'display_data';\n",
              "          await google.colab.output.renderOutput(dataTable, element);\n",
              "          const docLink = document.createElement('div');\n",
              "          docLink.innerHTML = docLinkHtml;\n",
              "          element.appendChild(docLink);\n",
              "        }\n",
              "      </script>\n",
              "    </div>\n",
              "  </div>\n",
              "  "
            ]
          },
          "metadata": {},
          "execution_count": 9
        }
      ]
    },
    {
      "cell_type": "code",
      "execution_count": null,
      "id": "bb2cd66b-1fd4-487f-aeb9-82a295ac1ad0",
      "metadata": {
        "id": "bb2cd66b-1fd4-487f-aeb9-82a295ac1ad0"
      },
      "outputs": [],
      "source": [
        "from ampligraph.evaluation import train_test_split_no_unseen \n",
        "\n",
        "X_train, X_valid = train_test_split_no_unseen(np.array(triples), test_size=5000)"
      ]
    },
    {
      "cell_type": "code",
      "execution_count": null,
      "id": "ab613ddf-5965-46a7-bdca-45244adc589d",
      "metadata": {
        "id": "ab613ddf-5965-46a7-bdca-45244adc589d"
      },
      "outputs": [],
      "source": [
        "from ampligraph.latent_features import ComplEx,TransE\n",
        "\n",
        "#kept no of epochs very low for testing\n",
        "complex_model = ComplEx(batches_count=100,\n",
        "                epochs=500,\n",
        "                k=150,\n",
        "                eta=20,\n",
        "                optimizer='adam', \n",
        "                optimizer_params={'lr':1e-4},\n",
        "                loss='multiclass_nll',\n",
        "                regularizer='LP', \n",
        "                regularizer_params={'p':3, 'lambda':1e-5}, \n",
        "                seed=0, \n",
        "                verbose=True)\n",
        "\n",
        "\n",
        "transe_model = TransE(k=150, \n",
        "                      eta=30, \n",
        "                      epochs=500, \n",
        "                      batches_count=100, \n",
        "                      seed=0, \n",
        "                      optimizer='adam', \n",
        "                      optimizer_params={'lr': 1e-4}, \n",
        "                      loss='multiclass_nll', \n",
        "                      regularizer='LP', \n",
        "                      regularizer_params={'p':3, 'lambda':1e-5},\n",
        "                      verbose=True)"
      ]
    },
    {
      "cell_type": "code",
      "execution_count": null,
      "id": "e3d9b4af-d372-46cc-b5fb-ecd99de71fd8",
      "metadata": {
        "colab": {
          "base_uri": "https://localhost:8080/"
        },
        "id": "e3d9b4af-d372-46cc-b5fb-ecd99de71fd8",
        "outputId": "4e49b04b-9289-40fa-c259-d1722625da25"
      },
      "outputs": [
        {
          "output_type": "stream",
          "name": "stderr",
          "text": [
            "Average ComplEx Loss:   0.334811: 100%|██████████| 500/500 [12:38<00:00,  1.52s/epoch]\n",
            "Average TransE Loss:   0.465097: 100%|██████████| 500/500 [06:09<00:00,  1.35epoch/s]\n"
          ]
        }
      ],
      "source": [
        "import tensorflow as tf\n",
        "tf.logging.set_verbosity(tf.logging.ERROR)\n",
        "\n",
        "complex_model.fit(X_train)\n",
        "transe_model.fit(X_train)\n"
      ]
    },
    {
      "cell_type": "code",
      "execution_count": null,
      "id": "9eb7f3af-2744-479c-b0a5-b3fcbbad14f6",
      "metadata": {
        "colab": {
          "base_uri": "https://localhost:8080/"
        },
        "id": "9eb7f3af-2744-479c-b0a5-b3fcbbad14f6",
        "outputId": "787f4359-507f-4332-8637-356eb8d49537"
      },
      "outputs": [
        {
          "output_type": "stream",
          "name": "stdout",
          "text": [
            "WARNING - DeprecationWarning: use_default_protocol will be removed in future. Please use corrupt_side argument instead.\n"
          ]
        },
        {
          "output_type": "stream",
          "name": "stderr",
          "text": [
            "100%|██████████| 5000/5000 [00:54<00:00, 91.98it/s]\n"
          ]
        }
      ],
      "source": [
        "filter_triples = np.concatenate((X_train, X_valid))\n",
        "from ampligraph.evaluation import evaluate_performance\n",
        "\n",
        "ranks = evaluate_performance(X_valid,\n",
        "                             model=complex_model, \n",
        "                             filter_triples=filter_triples,\n",
        "                             use_default_protocol=True,\n",
        "                             verbose=True)"
      ]
    },
    {
      "cell_type": "code",
      "execution_count": null,
      "id": "24a05b9c-1a8f-4422-9dbf-661a80375584",
      "metadata": {
        "colab": {
          "base_uri": "https://localhost:8080/"
        },
        "id": "24a05b9c-1a8f-4422-9dbf-661a80375584",
        "outputId": "464e72b0-f6b2-404e-b058-b71c1273e95e"
      },
      "outputs": [
        {
          "output_type": "stream",
          "name": "stdout",
          "text": [
            "MRR: 0.18\n",
            "MR: 1080.00\n",
            "Hits@10: 0.29\n",
            "Hits@3: 0.19\n",
            "Hits@1: 0.13\n"
          ]
        }
      ],
      "source": [
        "from ampligraph.evaluation import mr_score, mrr_score, hits_at_n_score\n",
        "\n",
        "mr = mr_score(ranks)\n",
        "mrr = mrr_score(ranks)\n",
        "\n",
        "print(\"MRR: %.2f\" % (mrr))\n",
        "print(\"MR: %.2f\" % (mr))\n",
        "\n",
        "hits_10 = hits_at_n_score(ranks, n=10)\n",
        "print(\"Hits@10: %.2f\" % (hits_10))\n",
        "hits_3 = hits_at_n_score(ranks, n=3)\n",
        "print(\"Hits@3: %.2f\" % (hits_3))\n",
        "hits_1 = hits_at_n_score(ranks, n=1)\n",
        "print(\"Hits@1: %.2f\" % (hits_1))"
      ]
    },
    {
      "cell_type": "code",
      "execution_count": null,
      "id": "aad442fa-f4dd-424a-9394-f78c359261c0",
      "metadata": {
        "colab": {
          "base_uri": "https://localhost:8080/"
        },
        "id": "aad442fa-f4dd-424a-9394-f78c359261c0",
        "outputId": "3a49c8d8-fcfb-42d2-8c4a-8c1e71f67e09"
      },
      "outputs": [
        {
          "output_type": "stream",
          "name": "stdout",
          "text": [
            "WARNING - DeprecationWarning: use_default_protocol will be removed in future. Please use corrupt_side argument instead.\n"
          ]
        },
        {
          "output_type": "stream",
          "name": "stderr",
          "text": [
            "100%|██████████| 5000/5000 [00:35<00:00, 139.04it/s]\n"
          ]
        }
      ],
      "source": [
        "filter_triples = np.concatenate((X_train, X_valid))\n",
        "from ampligraph.evaluation import evaluate_performance\n",
        "\n",
        "ranks = evaluate_performance(X_valid,\n",
        "                             model=transe_model, \n",
        "                             filter_triples=filter_triples,\n",
        "                             use_default_protocol=True,\n",
        "                             verbose=True)"
      ]
    },
    {
      "cell_type": "code",
      "source": [
        "from ampligraph.evaluation import mr_score, mrr_score, hits_at_n_score\n",
        "\n",
        "mr = mr_score(ranks)\n",
        "mrr = mrr_score(ranks)\n",
        "\n",
        "print(\"MRR: %.2f\" % (mrr))\n",
        "print(\"MR: %.2f\" % (mr))\n",
        "\n",
        "hits_10 = hits_at_n_score(ranks, n=10)\n",
        "print(\"Hits@10: %.2f\" % (hits_10))\n",
        "hits_3 = hits_at_n_score(ranks, n=3)\n",
        "print(\"Hits@3: %.2f\" % (hits_3))\n",
        "hits_1 = hits_at_n_score(ranks, n=1)\n",
        "print(\"Hits@1: %.2f\" % (hits_1))"
      ],
      "metadata": {
        "colab": {
          "base_uri": "https://localhost:8080/"
        },
        "id": "xzVaAeu9sJ03",
        "outputId": "8eefb9a0-22de-4722-c76c-a34bbcfd4c8a"
      },
      "id": "xzVaAeu9sJ03",
      "execution_count": null,
      "outputs": [
        {
          "output_type": "stream",
          "name": "stdout",
          "text": [
            "MRR: 0.24\n",
            "MR: 529.81\n",
            "Hits@10: 0.36\n",
            "Hits@3: 0.26\n",
            "Hits@1: 0.17\n"
          ]
        }
      ]
    }
  ],
  "metadata": {
    "kernelspec": {
      "display_name": "Python 3 (ipykernel)",
      "language": "python",
      "name": "python3"
    },
    "language_info": {
      "codemirror_mode": {
        "name": "ipython",
        "version": 3
      },
      "file_extension": ".py",
      "mimetype": "text/x-python",
      "name": "python",
      "nbconvert_exporter": "python",
      "pygments_lexer": "ipython3",
      "version": "3.9.7"
    },
    "colab": {
      "name": "bmkg_model_training.ipynb",
      "provenance": [],
      "collapsed_sections": []
    },
    "accelerator": "GPU"
  },
  "nbformat": 4,
  "nbformat_minor": 5
}