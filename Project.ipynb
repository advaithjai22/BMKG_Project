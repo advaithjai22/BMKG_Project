{
 "cells": [
  {
   "cell_type": "code",
   "execution_count": 1,
   "id": "046bb38c-aec8-4ec4-a002-7909aad97890",
   "metadata": {},
   "outputs": [],
   "source": [
    "import numpy as np\n",
    "import pandas as pd\n",
    "import re\n",
    "import os\n",
    "os.chdir(r'C:\\Users\\jadva\\OneDrive\\Desktop\\College\\Period 4\\Building and mining knowledge graphs\\Project\\Movie Recommender\\Final_Datasets')\n",
    "\n",
    "import warnings\n",
    "warnings.filterwarnings(\"ignore\", category=FutureWarning)"
   ]
  },
  {
   "cell_type": "code",
   "execution_count": 2,
   "id": "05f3ceb8-c281-4408-b884-e47d21178fa6",
   "metadata": {},
   "outputs": [],
   "source": [
    "#integrate the different datasets\n",
    "\n",
    "\n",
    "prime = pd.read_csv(r'amazon_prime_titles.csv')\n",
    "prime[\"Source\"] = \"Amazon Prime\"\n",
    "\n",
    "disney = pd.read_csv(r'disney_plus_titles.csv')\n",
    "disney[\"Source\"] = \"Disney Plus\"\n",
    "\n",
    "hulu = pd.read_csv(r'hulu_titles.csv')\n",
    "hulu[\"Source\"] = \"Hulu\"\n",
    "\n",
    "netflix = pd.read_csv(r'netflix_titles.csv')\n",
    "netflix[\"Source\"] = \"Netflix\"\n",
    "\n",
    "prime = prime[prime[\"type\"]==\"Movie\"]\n",
    "prime.reset_index(drop = True,inplace = True)\n",
    "\n",
    "disney = disney[disney[\"type\"]==\"Movie\"]\n",
    "disney.reset_index(drop = True,inplace = True)\n",
    "\n",
    "hulu = hulu[hulu[\"type\"]==\"Movie\"]\n",
    "hulu.reset_index(drop = True,inplace = True)\n",
    "\n",
    "netflix = netflix[netflix[\"type\"]==\"Movie\"]\n",
    "netflix.reset_index(drop = True,inplace = True)\n",
    "\n",
    "integrated_ott_movies = pd.concat([prime,disney,hulu,netflix])"
   ]
  },
  {
   "cell_type": "code",
   "execution_count": 3,
   "id": "273aa79b-704a-490a-a481-a87323749a0c",
   "metadata": {},
   "outputs": [
    {
     "name": "stderr",
     "output_type": "stream",
     "text": [
      "C:\\Users\\jadva\\AppData\\Local\\Temp/ipykernel_2752/2256283742.py:11: SettingWithCopyWarning: \n",
      "A value is trying to be set on a copy of a slice from a DataFrame\n",
      "\n",
      "See the caveats in the documentation: https://pandas.pydata.org/pandas-docs/stable/user_guide/indexing.html#returning-a-view-versus-a-copy\n",
      "  movielens_movies[\"release_year_clean\"][i] = movielens_movies[\"release_year\"][i][-1]\n",
      "C:\\ProgramData\\Anaconda3\\lib\\site-packages\\pandas\\core\\indexing.py:1732: SettingWithCopyWarning: \n",
      "A value is trying to be set on a copy of a slice from a DataFrame\n",
      "\n",
      "See the caveats in the documentation: https://pandas.pydata.org/pandas-docs/stable/user_guide/indexing.html#returning-a-view-versus-a-copy\n",
      "  self._setitem_single_block(indexer, value, name)\n"
     ]
    }
   ],
   "source": [
    "#clean and process the movielens dataset\n",
    "\n",
    "movielens_movies = pd.read_csv(r'movies.csv')\n",
    "\n",
    "movielens_movies[\"release_year\"] = movielens_movies[\"title\"].apply(lambda x: re.findall(r'\\([0-9]+\\)',x))\n",
    "\n",
    "movielens_movies[\"release_year_clean\"] = np.nan\n",
    "\n",
    "for i in range(len(movielens_movies)):\n",
    "    try:\n",
    "        movielens_movies[\"release_year_clean\"][i] = movielens_movies[\"release_year\"][i][-1]\n",
    "        movielens_movies[\"release_year_clean\"][i] = movielens_movies[\"release_year_clean\"][i].replace(\"(\",\"\").replace(\")\",\"\")\n",
    "        movielens_movies[\"release_year_clean\"][i] = int(movielens_movies[\"release_year_clean\"][i])\n",
    "    except:\n",
    "        continue\n",
    "\n",
    "movielens_movies = movielens_movies[movielens_movies[\"release_year_clean\"].notnull()] #removing the rows with no year for the movie  \n",
    "movielens_movies[\"title\"] = movielens_movies[\"title\"].apply(lambda x: re.sub(r'\\([0-9]+\\)','',x)) #removing year from title\n",
    "movielens_movies[\"release_year\"] = movielens_movies[\"release_year_clean\"]\n",
    "movielens_movies = movielens_movies.drop(columns=[\"release_year_clean\"])\n",
    "movielens_movies = movielens_movies[(movielens_movies[\"release_year\"] >= integrated_ott_movies[\"release_year\"].min()) & (movielens_movies[\"release_year\"] <= 2017)]\n",
    "movielens_movies.reset_index(drop = True,inplace = True)\n",
    "movielens_movies['title'] = movielens_movies['title'].apply(lambda x:x.strip())\n",
    "\n",
    "\n",
    "#filter based on common years in both\n",
    "integrated_ott_movies = integrated_ott_movies[integrated_ott_movies[\"release_year\"] <= 2017]\n",
    "integrated_ott_movies.reset_index(drop = True,inplace = True)\n",
    "integrated_ott_movies['title'] = integrated_ott_movies['title'].apply(lambda x:x.strip())\n",
    "#take a subset of the data\n",
    "integrated_ott_movies = integrated_ott_movies[['title','director','cast','country','rating','listed_in','Source','release_year']]"
   ]
  },
  {
   "cell_type": "markdown",
   "id": "356517f9-a148-4b3e-9d8d-46baae6bf3b0",
   "metadata": {},
   "source": [
    "# now we match some titles considering release year also. we will use fuzzy string matching for the rest"
   ]
  },
  {
   "cell_type": "code",
   "execution_count": 4,
   "id": "f36d5945-d908-4e37-af8d-a5f5e5420c9b",
   "metadata": {},
   "outputs": [
    {
     "name": "stderr",
     "output_type": "stream",
     "text": [
      "C:\\Users\\jadva\\AppData\\Local\\Temp/ipykernel_2752/1852564502.py:6: UserWarning: Boolean Series key will be reindexed to match DataFrame index.\n",
      "  direct_match = movielens_movies.iloc[movielens_movies[cond1 & cond2].index]\n",
      "C:\\Users\\jadva\\AppData\\Local\\Temp/ipykernel_2752/1852564502.py:9: UserWarning: Boolean Series key will be reindexed to match DataFrame index.\n",
      "  not_matched = movielens_movies.drop(movielens_movies[cond1 & cond2].index)\n"
     ]
    }
   ],
   "source": [
    "#matched with titles and year\n",
    "\n",
    "cond1 = integrated_ott_movies['title'].isin(movielens_movies['title'])\n",
    "cond2 = integrated_ott_movies['release_year'].isin(movielens_movies['release_year'])\n",
    "\n",
    "direct_match = movielens_movies.iloc[movielens_movies[cond1 & cond2].index]\n",
    "direct_match.reset_index(drop = True,inplace = True)\n",
    "\n",
    "not_matched = movielens_movies.drop(movielens_movies[cond1 & cond2].index)\n",
    "not_matched.reset_index(drop = True,inplace = True)\n",
    "\n",
    "not_matched = not_matched.drop_duplicates(subset = ['title','release_year'])\n",
    "direct_match = direct_match.drop_duplicates(subset = ['title','release_year'])\n",
    "\n"
   ]
  },
  {
   "cell_type": "code",
   "execution_count": null,
   "id": "2c265a85-2007-4467-9e8c-39d40ed3de27",
   "metadata": {},
   "outputs": [],
   "source": []
  },
  {
   "cell_type": "code",
   "execution_count": 5,
   "id": "4fcfba85-47f0-4822-a302-d773562963dd",
   "metadata": {},
   "outputs": [
    {
     "name": "stderr",
     "output_type": "stream",
     "text": [
      "C:\\Users\\jadva\\AppData\\Local\\Temp/ipykernel_2752/1462143119.py:17: SettingWithCopyWarning: \n",
      "A value is trying to be set on a copy of a slice from a DataFrame\n",
      "\n",
      "See the caveats in the documentation: https://pandas.pydata.org/pandas-docs/stable/user_guide/indexing.html#returning-a-view-versus-a-copy\n",
      "  df['Matches'][i] = process.extract(df['title'][i], choices, scorer=fuzz.WRatio, limit=1)\n",
      "C:\\ProgramData\\Anaconda3\\lib\\site-packages\\pandas\\core\\series.py:1056: SettingWithCopyWarning: \n",
      "A value is trying to be set on a copy of a slice from a DataFrame\n",
      "\n",
      "See the caveats in the documentation: https://pandas.pydata.org/pandas-docs/stable/user_guide/indexing.html#returning-a-view-versus-a-copy\n",
      "  cacher_needs_updating = self._check_is_chained_assignment_possible()\n",
      "C:\\Users\\jadva\\AppData\\Local\\Temp/ipykernel_2752/1462143119.py:34: SettingWithCopyWarning: \n",
      "A value is trying to be set on a copy of a slice from a DataFrame.\n",
      "Try using .loc[row_indexer,col_indexer] = value instead\n",
      "\n",
      "See the caveats in the documentation: https://pandas.pydata.org/pandas-docs/stable/user_guide/indexing.html#returning-a-view-versus-a-copy\n",
      "  not_matched_low_conf['Scores_1'] = np.nan\n",
      "C:\\Users\\jadva\\AppData\\Local\\Temp/ipykernel_2752/1462143119.py:35: SettingWithCopyWarning: \n",
      "A value is trying to be set on a copy of a slice from a DataFrame.\n",
      "Try using .loc[row_indexer,col_indexer] = value instead\n",
      "\n",
      "See the caveats in the documentation: https://pandas.pydata.org/pandas-docs/stable/user_guide/indexing.html#returning-a-view-versus-a-copy\n",
      "  not_matched_low_conf['Scores_2'] = np.nan\n",
      "C:\\Users\\jadva\\AppData\\Local\\Temp/ipykernel_2752/1462143119.py:37: SettingWithCopyWarning: \n",
      "A value is trying to be set on a copy of a slice from a DataFrame\n",
      "\n",
      "See the caveats in the documentation: https://pandas.pydata.org/pandas-docs/stable/user_guide/indexing.html#returning-a-view-versus-a-copy\n",
      "  not_matched_low_conf['Scores_1'][i] = fuzz.token_set_ratio(not_matched_low_conf['Matches'][i], not_matched_low_conf['title'][i])\n",
      "C:\\Users\\jadva\\AppData\\Local\\Temp/ipykernel_2752/1462143119.py:38: SettingWithCopyWarning: \n",
      "A value is trying to be set on a copy of a slice from a DataFrame\n",
      "\n",
      "See the caveats in the documentation: https://pandas.pydata.org/pandas-docs/stable/user_guide/indexing.html#returning-a-view-versus-a-copy\n",
      "  not_matched_low_conf['Scores_2'][i] = fuzz.partial_ratio(not_matched_low_conf['Matches'][i], not_matched_low_conf['title'][i])\n"
     ]
    }
   ],
   "source": [
    "#matched with fuzzy matching taking a high degree of confidence\n",
    "from rapidfuzz import process, fuzz\n",
    "choices = integrated_ott_movies['title'].tolist()\n",
    "not_matched['Matches'] = np.nan\n",
    "not_matched_new_df = pd.DataFrame()\n",
    "\n",
    "\n",
    "years = not_matched['release_year'].unique().tolist()\n",
    "for year in years:\n",
    "  choices = integrated_ott_movies[integrated_ott_movies['release_year'] == year]['title'].tolist()\n",
    "  if(choices == []):\n",
    "    continue\n",
    "  else:\n",
    "    df = not_matched[not_matched['release_year'] == year]\n",
    "    df.reset_index(drop = True,inplace = True)\n",
    "    for i in range(len(df)):\n",
    "        df['Matches'][i] = process.extract(df['title'][i], choices, scorer=fuzz.WRatio, limit=1)\n",
    "    not_matched_new_df = pd.concat([not_matched_new_df,df])\n",
    "    \n",
    "not_matched = not_matched_new_df.copy() \n",
    "not_matched.reset_index(drop = True,inplace = True)\n",
    "\n",
    "not_matched[\"Scores\"] = np.nan\n",
    "not_matched[\"Scores\"] = not_matched[\"Matches\"].apply(lambda x: x[0][1]) \n",
    "not_matched[\"Matches\"] = not_matched[\"Matches\"].apply(lambda x: x[0][0]) \n",
    "\n",
    "\n",
    "\n",
    "not_matched_high_conf = not_matched[not_matched[\"Scores\"] >= 95]\n",
    "not_matched_low_conf = not_matched[(not_matched[\"Scores\"] >= 90) & (not_matched[\"Scores\"] < 95)]\n",
    "\n",
    "\n",
    "not_matched_low_conf.reset_index(drop = True,inplace = True)\n",
    "not_matched_low_conf['Scores_1'] = np.nan\n",
    "not_matched_low_conf['Scores_2'] = np.nan\n",
    "for i in range(len(not_matched_low_conf)):\n",
    "    not_matched_low_conf['Scores_1'][i] = fuzz.token_set_ratio(not_matched_low_conf['Matches'][i], not_matched_low_conf['title'][i])\n",
    "    not_matched_low_conf['Scores_2'][i] = fuzz.partial_ratio(not_matched_low_conf['Matches'][i], not_matched_low_conf['title'][i])\n",
    "not_matched_low_conf = not_matched_low_conf[(not_matched_low_conf['Scores_1'] >= 95) & (not_matched_low_conf['Scores_2'] >= 95)]    \n",
    "\n",
    "\n",
    "not_matched = pd.concat([not_matched_low_conf,not_matched_high_conf])\n",
    "not_matched[\"Matches\"] = not_matched[\"title\"] \n",
    "# not_matched.drop(columns = [\"Matches\"],inplace = True)\n",
    "not_matched.drop(columns = [\"Matches\",\"Scores\",\"Scores_1\",\"Scores_2\"],inplace = True)\n",
    "\n",
    "movielens_clean = pd.concat([direct_match,not_matched])\n",
    "movielens_clean.reset_index(drop = True,inplace = True)\n",
    "movielens_clean['title'] = movielens_clean['title'].apply(lambda x:x.strip()) "
   ]
  },
  {
   "cell_type": "code",
   "execution_count": 6,
   "id": "4d07edde-8007-40c2-8bcb-6bb6c9acd104",
   "metadata": {},
   "outputs": [],
   "source": [
    "integrated_ott_movies = integrated_ott_movies.merge(movielens_clean,how = 'inner',on=['title','release_year'])\n",
    "# integrated_ott_movies.to_excel(r'integrated_ott_movies.xlsx',index = False)"
   ]
  },
  {
   "cell_type": "markdown",
   "id": "1a977aac-ff22-4311-9431-ed1e5ca7cece",
   "metadata": {},
   "source": [
    "# processing the Movielens dataset"
   ]
  },
  {
   "cell_type": "code",
   "execution_count": 7,
   "id": "3808e715-5107-4bc5-8369-89ebc444d5f3",
   "metadata": {},
   "outputs": [],
   "source": [
    "movie_review = pd.read_csv(r'ratings.csv')\n",
    "movie_review.drop(columns = ['timestamp'],inplace = True)\n",
    "\n",
    "unique_movie_ids = integrated_ott_movies['movieId'].unique().tolist()\n",
    "movie_review = movie_review[movie_review['movieId'].isin(unique_movie_ids)]\n",
    "\n",
    "movie_review.reset_index(drop = True, inplace = True)"
   ]
  },
  {
   "cell_type": "code",
   "execution_count": null,
   "id": "63945780-2d08-4f13-b05c-ee2ead39318e",
   "metadata": {},
   "outputs": [],
   "source": []
  },
  {
   "cell_type": "code",
   "execution_count": 8,
   "id": "2faa06ff-6ac3-4985-b177-1d3ead2b5684",
   "metadata": {},
   "outputs": [],
   "source": [
    "import rdflib\n",
    "from rdflib  import Graph, Literal, RDF, URIRef, Namespace,XSD,FOAF,OWL"
   ]
  },
  {
   "cell_type": "code",
   "execution_count": 9,
   "id": "dd2378d3-8284-4872-8d74-300a8516cd98",
   "metadata": {},
   "outputs": [],
   "source": [
    "def title_clean(x):\n",
    "    x = str(x)\n",
    "    x =  x.replace(\" \",\"_\")\n",
    "    x = x.replace(\"-\",\"_\")\n",
    "    x =  x.replace(r'\"','')\n",
    "    x = x.replace(\" \",\"%20\")\n",
    "    x = x.replace('\"',\"%22\")\n",
    "    \n",
    "    return x"
   ]
  },
  {
   "cell_type": "markdown",
   "id": "ecb14a67-14d1-4137-bad7-0c3e07ccbb8d",
   "metadata": {},
   "source": [
    "# Knowledge graph 1 - With just OTT data"
   ]
  },
  {
   "cell_type": "code",
   "execution_count": 10,
   "id": "c6cd53e6-6227-4944-8ef6-3cf54dd6ba6f",
   "metadata": {},
   "outputs": [
    {
     "data": {
      "text/plain": [
       "<Graph identifier=Na6221a5164454ea9be4b957bcb013cb4 (<class 'rdflib.graph.Graph'>)>"
      ]
     },
     "execution_count": 10,
     "metadata": {},
     "output_type": "execute_result"
    }
   ],
   "source": [
    "\n",
    "#Existing Schemas\n",
    "SCHEMA = Namespace('https://schema.org/')\n",
    "ex = Namespace('http://example.org/')\n",
    "\n",
    "#Custom Schemas\n",
    "ppl = Namespace('http://example.org/MovieDB/')\n",
    "ppl2 = Namespace('http://example.org/MovieLens/')\n",
    "\n",
    "net = Graph()\n",
    "\n",
    "\n",
    "for index, row in integrated_ott_movies.iterrows():\n",
    "    \n",
    "    #assign types to movie\n",
    "    net.add((URIRef(ppl+title_clean(row['title'])), RDF.type, SCHEMA['Movie']))\n",
    "    \n",
    "    #assigns the ott\n",
    "    net.add((URIRef(ppl+title_clean(row['Source'])), RDF.type, ex['OTT']))\n",
    "    net.add((URIRef(ppl+title_clean(row['title'])), ex['StreamingOn'], URIRef(ppl+title_clean(row['Source']))))\n",
    "    \n",
    "    #assigns the release year\n",
    "    net.add((URIRef(ppl+title_clean(row['title'])), SCHEMA['datePublished'], Literal(str(row['release_year']), datatype=XSD['gYear'])))\n",
    "    \n",
    "    #assigns ratings\n",
    "    if(str(row['rating'])!= 'nan'):\n",
    "        net.add((URIRef(ppl+title_clean(row['title'])), RDF.type, SCHEMA['contentRating']))\n",
    "        net.add((URIRef(ppl+title_clean(row['title'])), ex['IsRated'],URIRef(ppl+title_clean(row['rating']))))\n",
    "    \n",
    "    #links countries and the title\n",
    "    if(str(row['country'])!= 'nan'):\n",
    "        for item in row['country'].split(\",\"):\n",
    "            item = item.replace(\"&\",\"and\")\n",
    "            item = item.strip()\n",
    "            net.add((URIRef(ppl+title_clean(item)), RDF.type, SCHEMA['countryOfOrigin']))\n",
    "            net.add((URIRef(ppl+title_clean(row['title'])), ex['countryOfOrigin'],URIRef(ppl+title_clean(item))))\n",
    "        \n",
    "    \n",
    "    if(str(row['listed_in'])!= 'nan'):\n",
    "        #links genres from OTTs and the title\n",
    "        for item in row['listed_in'].split(\",\"):\n",
    "            item = item.replace(\"&\",\"and\")\n",
    "            item = item.strip()\n",
    "            \n",
    "            net.add((URIRef(ppl+title_clean(item)), RDF.type, SCHEMA['genre']))\n",
    "            net.add((URIRef(ppl+title_clean(row['title'])), ex['HasGenre'],URIRef(ppl+title_clean(item))))\n",
    "        #links genres from MovieLens and the title    \n",
    "        for item in row['genres'].split(\"|\"):\n",
    "            item = item.replace(\"&\",\"and\")\n",
    "            item = item.strip()\n",
    "            \n",
    "            net.add((URIRef(ppl2+title_clean(item)), RDF.type, SCHEMA['genre']))\n",
    "            net.add((URIRef(ppl+title_clean(row['title'])), ex['HasGenre'],URIRef(ppl2+title_clean(item))))    \n",
    "            \n",
    "            \n",
    "    if(str(row['director'])!= 'nan'):\n",
    "        for item in row['director'].split(\",\"):\n",
    "            item = item.replace(\"&\",\"and\")\n",
    "            item = item.strip()\n",
    "            \n",
    "            net.add((URIRef(ppl+title_clean(item)), RDF.type, SCHEMA['director']))\n",
    "            net.add((URIRef(ppl+title_clean(row['title'])), ex['DirectedBy'],URIRef(ppl+title_clean(item))))     \n",
    "            \n",
    "            \n",
    "    if(str(row['cast'])!= 'nan'):\n",
    "        for item in row['cast'].split(\",\"):\n",
    "            item = item.replace(\"&\",\"and\")\n",
    "            item = item.strip()\n",
    "            \n",
    "            net.add((URIRef(ppl+title_clean(item)), RDF.type, SCHEMA['actor']))\n",
    "            net.add((URIRef(ppl+title_clean(item)), ex['ActedIn'],URIRef(ppl+title_clean(row['title']))))        \n",
    "                 \n",
    "            \n",
    "net.serialize(destination='OTT_KG.ttl',format='ttl')            \n",
    "        \n",
    "\n"
   ]
  },
  {
   "cell_type": "markdown",
   "id": "b272139c-06c5-4341-91f9-3d27d85bca03",
   "metadata": {},
   "source": [
    "# Knowledge Graph 2 - Ratings data"
   ]
  },
  {
   "cell_type": "code",
   "execution_count": null,
   "id": "44abced3-d3c8-43f5-a91c-95c97431c152",
   "metadata": {},
   "outputs": [],
   "source": []
  },
  {
   "cell_type": "code",
   "execution_count": 11,
   "id": "c1c2914a-b8da-4376-b24f-78463550b873",
   "metadata": {},
   "outputs": [
    {
     "data": {
      "text/plain": [
       "<Graph identifier=Nbd36c7943dc2441d9da973e916f193e5 (<class 'rdflib.graph.Graph'>)>"
      ]
     },
     "execution_count": 11,
     "metadata": {},
     "output_type": "execute_result"
    }
   ],
   "source": [
    "\n",
    "#Existing Schemas\n",
    "SCHEMA = Namespace('https://schema.org/')\n",
    "ex = Namespace('http://example.org/')\n",
    "\n",
    "#Custom Schemas\n",
    "ppl = Namespace('http://example.org/MovieDB/')\n",
    "ppl2 = Namespace('http://example.org/MovieLens/')\n",
    "\n",
    "net = Graph()\n",
    "\n",
    "\n",
    "for index, row in movie_review.iterrows():\n",
    "    \n",
    "    #assign types to movie\n",
    "    net.add((URIRef(ppl2+str(int(row['movieId']))), ex['RatedBy'],URIRef(ppl2+title_clean(\"User_Id_\" + str(int(row['userId']))))))\n",
    "    \n",
    "\n",
    "            \n",
    "net.serialize(destination='ratings.ttl',format='ttl')            \n",
    "        \n",
    "\n"
   ]
  },
  {
   "cell_type": "markdown",
   "id": "0026cb80-ccbd-4a2d-909b-b7efeecd2b9a",
   "metadata": {},
   "source": [
    "# Knowledge Graph 3 - Integrated knowledge graph"
   ]
  },
  {
   "cell_type": "code",
   "execution_count": 12,
   "id": "d1da08c0-8b6d-4cfc-afb0-59f2961b5467",
   "metadata": {},
   "outputs": [
    {
     "data": {
      "text/plain": [
       "<Graph identifier=N9f3e0191381340f9968c79345a104471 (<class 'rdflib.graph.Graph'>)>"
      ]
     },
     "execution_count": 12,
     "metadata": {},
     "output_type": "execute_result"
    }
   ],
   "source": [
    "\n",
    "#Existing Schemas\n",
    "SCHEMA = Namespace('https://schema.org/')\n",
    "ex = Namespace('http://example.org/')\n",
    "\n",
    "#Custom Schemas\n",
    "ppl = Namespace('http://example.org/MovieDB/')\n",
    "ppl2 = Namespace('http://example.org/MovieLens/')\n",
    "\n",
    "net = Graph()\n",
    "\n",
    "\n",
    "for index, row in integrated_ott_movies.iterrows():\n",
    "    \n",
    "    #assign types to movie\n",
    "    net.add((URIRef(ppl+title_clean(row['title'])), RDF.type, SCHEMA['Movie']))\n",
    "    \n",
    "    #links movielens id to the title\n",
    "    net.add((URIRef(ppl+title_clean(row['title'])), OWL['sameAs'], URIRef(ppl2+title_clean(str(int(row['movieId']))))))\n",
    "    \n",
    "    #assigns the ott\n",
    "    net.add((URIRef(ppl+title_clean(row['Source'])), RDF.type, ex['OTT']))\n",
    "    net.add((URIRef(ppl+title_clean(row['title'])), ex['StreamingOn'], URIRef(ppl+title_clean(row['Source']))))\n",
    "    \n",
    "    #assigns the release year\n",
    "    net.add((URIRef(ppl+title_clean(row['title'])), SCHEMA['datePublished'], Literal(str(row['release_year']), datatype=XSD['gYear'])))\n",
    "    \n",
    "    #assigns ratings\n",
    "    if(str(row['rating'])!= 'nan'):\n",
    "        net.add((URIRef(ppl+title_clean(row['title'])), RDF.type, SCHEMA['contentRating']))\n",
    "        net.add((URIRef(ppl+title_clean(row['title'])), ex['IsRated'],URIRef(ppl+title_clean(row['rating']))))\n",
    "    \n",
    "    #links countries and the title\n",
    "    if(str(row['country'])!= 'nan'):\n",
    "        for item in row['country'].split(\",\"):\n",
    "            item = item.replace(\"&\",\"and\")\n",
    "            item = item.strip()\n",
    "            net.add((URIRef(ppl+title_clean(item)), RDF.type, SCHEMA['countryOfOrigin']))\n",
    "            net.add((URIRef(ppl+title_clean(row['title'])), ex['countryOfOrigin'],URIRef(ppl+title_clean(item))))\n",
    "        \n",
    "    \n",
    "    if(str(row['listed_in'])!= 'nan'):\n",
    "        #links genres from OTTs and the title\n",
    "        for item in row['listed_in'].split(\",\"):\n",
    "            item = item.replace(\"&\",\"and\")\n",
    "            item = item.strip()\n",
    "            \n",
    "            net.add((URIRef(ppl+title_clean(item)), RDF.type, SCHEMA['genre']))\n",
    "            net.add((URIRef(ppl+title_clean(row['title'])), ex['HasGenre'],URIRef(ppl+title_clean(item))))\n",
    "        #links genres from MovieLens and the title    \n",
    "        for item in row['genres'].split(\"|\"):\n",
    "            item = item.replace(\"&\",\"and\")\n",
    "            item = item.strip()\n",
    "            \n",
    "            net.add((URIRef(ppl2+title_clean(item)), RDF.type, SCHEMA['genre']))\n",
    "            net.add((URIRef(ppl+title_clean(row['title'])), ex['HasGenre'],URIRef(ppl2+title_clean(item))))    \n",
    "            \n",
    "            \n",
    "    if(str(row['director'])!= 'nan'):\n",
    "        for item in row['director'].split(\",\"):\n",
    "            item = item.replace(\"&\",\"and\")\n",
    "            item = item.strip()\n",
    "            \n",
    "            net.add((URIRef(ppl+title_clean(item)), RDF.type, SCHEMA['director']))\n",
    "            net.add((URIRef(ppl+title_clean(row['title'])), ex['DirectedBy'],URIRef(ppl+title_clean(item))))     \n",
    "            \n",
    "            \n",
    "    if(str(row['cast'])!= 'nan'):\n",
    "        for item in row['cast'].split(\",\"):\n",
    "            item = item.replace(\"&\",\"and\")\n",
    "            item = item.strip()\n",
    "            \n",
    "            net.add((URIRef(ppl+title_clean(item)), RDF.type, SCHEMA['actor']))\n",
    "            net.add((URIRef(ppl+title_clean(item)), ex['ActedIn'],URIRef(ppl+title_clean(row['title']))))   \n",
    "            \n",
    "           \n",
    "for index, row in movie_review.iterrows():\n",
    "    \n",
    "    #assign types to movie\n",
    "    net.add((URIRef(ppl2+str(int(row['movieId']))), ex['RatedBy'],URIRef(ppl2+title_clean(\"User_Id_\" + str(int(row['userId']))))))            \n",
    "                 \n",
    "            \n",
    "net.serialize(destination='Integrated_KG.ttl',format='ttl')            \n",
    "        \n",
    "\n"
   ]
  },
  {
   "cell_type": "code",
   "execution_count": null,
   "id": "8348326b-565e-4d80-b68c-4b0fb42b290f",
   "metadata": {},
   "outputs": [],
   "source": []
  },
  {
   "cell_type": "code",
   "execution_count": 14,
   "id": "eaa04ad0-d702-42a1-b8d1-774912f40025",
   "metadata": {},
   "outputs": [
    {
     "name": "stderr",
     "output_type": "stream",
     "text": [
      "57233it [04:16, 222.70it/s]\n"
     ]
    }
   ],
   "source": [
    "from tqdm import tqdm\n",
    "net_df = pd.DataFrame()\n",
    "for subject, predicate, object in tqdm(net.triples((None, None, None))):\n",
    "    df = pd.DataFrame({'Subject':[subject],'Predicate':[predicate],'Object':[object]})\n",
    "    net_df = pd.concat([net_df,df])\n",
    "    "
   ]
  },
  {
   "cell_type": "code",
   "execution_count": 24,
   "id": "e3e8546e-5efb-43fd-9aae-e7bcbcb5f378",
   "metadata": {},
   "outputs": [],
   "source": [
    "net_df.reset_index(drop = True,inplace = True)\n",
    "\n",
    "net_df['Subject'] = net_df['Subject'].apply(lambda x: str(x))\n",
    "net_df['Predicate'] = net_df['Predicate'].apply(lambda x: str(x))\n",
    "net_df['Object'] = net_df['Object'].apply(lambda x: str(x))\n",
    "\n",
    "net_df.to_csv(r'Integrated_KG_CSV.csv',index= False)"
   ]
  },
  {
   "cell_type": "code",
   "execution_count": 22,
   "id": "7cdfe5df-b2ba-4669-9cfd-a65fbe784a08",
   "metadata": {},
   "outputs": [
    {
     "data": {
      "text/plain": [
       "\"http://example.org/MovieDB/Pete's_Dragon\""
      ]
     },
     "execution_count": 22,
     "metadata": {},
     "output_type": "execute_result"
    }
   ],
   "source": []
  },
  {
   "cell_type": "code",
   "execution_count": null,
   "id": "34295c1b-5c4f-4e5f-9aae-7b72f78d6c16",
   "metadata": {},
   "outputs": [],
   "source": []
  }
 ],
 "metadata": {
  "kernelspec": {
   "display_name": "Python 3 (ipykernel)",
   "language": "python",
   "name": "python3"
  },
  "language_info": {
   "codemirror_mode": {
    "name": "ipython",
    "version": 3
   },
   "file_extension": ".py",
   "mimetype": "text/x-python",
   "name": "python",
   "nbconvert_exporter": "python",
   "pygments_lexer": "ipython3",
   "version": "3.9.7"
  }
 },
 "nbformat": 4,
 "nbformat_minor": 5
}
